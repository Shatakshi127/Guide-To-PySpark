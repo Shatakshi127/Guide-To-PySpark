{
  "nbformat": 4,
  "nbformat_minor": 0,
  "metadata": {
    "colab": {
      "provenance": []
    },
    "kernelspec": {
      "name": "python3",
      "display_name": "Python 3"
    },
    "language_info": {
      "name": "python"
    }
  },
  "cells": [
    {
      "cell_type": "code",
      "execution_count": 1,
      "metadata": {
        "colab": {
          "base_uri": "https://localhost:8080/"
        },
        "id": "L6E5yMmWdayx",
        "outputId": "eed3ffaf-3a0f-4c90-eaf5-7297871f3fb9"
      },
      "outputs": [
        {
          "output_type": "stream",
          "name": "stdout",
          "text": [
            "Collecting pyspark\n",
            "  Downloading pyspark-3.5.0.tar.gz (316.9 MB)\n",
            "\u001b[2K     \u001b[90m━━━━━━━━━━━━━━━━━━━━━━━━━━━━━━━━━━━━━━━━\u001b[0m \u001b[32m316.9/316.9 MB\u001b[0m \u001b[31m4.1 MB/s\u001b[0m eta \u001b[36m0:00:00\u001b[0m\n",
            "\u001b[?25h  Preparing metadata (setup.py) ... \u001b[?25l\u001b[?25hdone\n",
            "Requirement already satisfied: py4j==0.10.9.7 in /usr/local/lib/python3.10/dist-packages (from pyspark) (0.10.9.7)\n",
            "Building wheels for collected packages: pyspark\n",
            "  Building wheel for pyspark (setup.py) ... \u001b[?25l\u001b[?25hdone\n",
            "  Created wheel for pyspark: filename=pyspark-3.5.0-py2.py3-none-any.whl size=317425344 sha256=910aec60fd71ad10a7b7f0f2ab276159908430f2402859ccc951d75546e9b285\n",
            "  Stored in directory: /root/.cache/pip/wheels/41/4e/10/c2cf2467f71c678cfc8a6b9ac9241e5e44a01940da8fbb17fc\n",
            "Successfully built pyspark\n",
            "Installing collected packages: pyspark\n",
            "Successfully installed pyspark-3.5.0\n"
          ]
        }
      ],
      "source": [
        "#installing pyspark\n",
        "!pip install pyspark\n",
        "#importing pyspark\n",
        "import pyspark\n",
        "\n",
        "#importing sparksessio\n",
        "from pyspark.sql import SparkSession\n",
        "\n",
        "#creating a sparksession object and providing appName\n",
        "spark=SparkSession.builder.appName(\"pysparkdf\").getOrCreate()"
      ]
    },
    {
      "cell_type": "code",
      "source": [
        "spark"
      ],
      "metadata": {
        "colab": {
          "base_uri": "https://localhost:8080/",
          "height": 222
        },
        "id": "0MrqTQmCdb70",
        "outputId": "842ffacd-615f-49f7-da80-634d3a7412a0"
      },
      "execution_count": 2,
      "outputs": [
        {
          "output_type": "execute_result",
          "data": {
            "text/plain": [
              "<pyspark.sql.session.SparkSession at 0x7cd74bd80cd0>"
            ],
            "text/html": [
              "\n",
              "            <div>\n",
              "                <p><b>SparkSession - in-memory</b></p>\n",
              "                \n",
              "        <div>\n",
              "            <p><b>SparkContext</b></p>\n",
              "\n",
              "            <p><a href=\"http://eb99f4b27876:4040\">Spark UI</a></p>\n",
              "\n",
              "            <dl>\n",
              "              <dt>Version</dt>\n",
              "                <dd><code>v3.5.0</code></dd>\n",
              "              <dt>Master</dt>\n",
              "                <dd><code>local[*]</code></dd>\n",
              "              <dt>AppName</dt>\n",
              "                <dd><code>pysparkdf</code></dd>\n",
              "            </dl>\n",
              "        </div>\n",
              "        \n",
              "            </div>\n",
              "        "
            ]
          },
          "metadata": {},
          "execution_count": 2
        }
      ]
    },
    {
      "cell_type": "markdown",
      "source": [
        "Consider that at the end of that year, the grocery shop owner targets to generate a compressed representation of the data while determining the total amount paid by each customer along with the number of times that customer visited the store. List and explain the sequence of PYSPARK operations that are to be executed to obtain the desired compressed representation with the input as of Table 1. Write down the PYSPARK operation to generate the output in the sorted order (descending) of customer visits."
      ],
      "metadata": {
        "id": "CcxDVQ8PfCP1"
      }
    },
    {
      "cell_type": "code",
      "source": [
        "from google.colab import drive\n",
        "drive.mount('/content/drive')"
      ],
      "metadata": {
        "colab": {
          "base_uri": "https://localhost:8080/"
        },
        "id": "LXI0NTnbeG4s",
        "outputId": "3af0f202-3953-4ef0-ca98-870db7bdfc19"
      },
      "execution_count": 3,
      "outputs": [
        {
          "output_type": "stream",
          "name": "stdout",
          "text": [
            "Mounted at /content/drive\n"
          ]
        }
      ]
    },
    {
      "cell_type": "code",
      "source": [
        "file_path = \"/content/drive/MyDrive/dataset.csv\"  # Update with the actual path of your CSV file\n",
        "\n",
        "# Load DataFrame from CSV\n",
        "dfs = spark.read.csv(file_path, header=True, inferSchema=True)\n",
        "\n",
        "# Show the DataFrame\n",
        "dfs.show()\n"
      ],
      "metadata": {
        "colab": {
          "base_uri": "https://localhost:8080/"
        },
        "id": "MSH2_gBFeKy6",
        "outputId": "2345b0a3-a1fa-4ac0-c31b-64be7e1eec73"
      },
      "execution_count": 12,
      "outputs": [
        {
          "output_type": "stream",
          "name": "stdout",
          "text": [
            "+-----------+-------+\n",
            "|Amount_Paid|User_ID|\n",
            "+-----------+-------+\n",
            "|        500|    102|\n",
            "|       5000|    103|\n",
            "|       2000|    102|\n",
            "|        400|    104|\n",
            "|        570|    103|\n",
            "|       3000|    105|\n",
            "|        800|    105|\n",
            "|        120|    103|\n",
            "|       1500|    102|\n",
            "+-----------+-------+\n",
            "\n"
          ]
        }
      ]
    },
    {
      "cell_type": "code",
      "source": [
        "# Group by User_ID and calculate total amount paid and visit count\n",
        "\n",
        "from pyspark.sql.functions import sum, count\n",
        "\n",
        "compressed_df = dfs.groupBy(\"User_ID\").agg(sum(\"Amount_Paid\").alias(\"Total_Amount_Paid\"), count(\"User_ID\").alias(\"Visit_Count\"))\n",
        "\n",
        "compressed_df.show()"
      ],
      "metadata": {
        "colab": {
          "base_uri": "https://localhost:8080/"
        },
        "id": "vP6yGTQAeYPb",
        "outputId": "86eab0f2-0258-4320-ac3a-b090b6d93ac6"
      },
      "execution_count": 8,
      "outputs": [
        {
          "output_type": "stream",
          "name": "stdout",
          "text": [
            "+-------+-----------------+-----------+\n",
            "|User_ID|Total_Amount_Paid|Visit_Count|\n",
            "+-------+-----------------+-----------+\n",
            "|    103|             5690|          3|\n",
            "|    102|             4000|          3|\n",
            "|    105|             3800|          2|\n",
            "|    104|              400|          1|\n",
            "+-------+-----------------+-----------+\n",
            "\n"
          ]
        }
      ]
    },
    {
      "cell_type": "code",
      "source": [
        "# Sort the result in descending order based on visit count\n",
        "sorted_compressed_df = compressed_df.orderBy(\"Visit_Count\", ascending=False)\n",
        "\n",
        "print(\"\\nSorted Compressed Representation (Descending Order of Visit Count):\")\n",
        "sorted_compressed_df.show()"
      ],
      "metadata": {
        "colab": {
          "base_uri": "https://localhost:8080/"
        },
        "id": "aGzAs-bYeuqY",
        "outputId": "74996c23-5728-4d8b-8385-c5f98f995abd"
      },
      "execution_count": 9,
      "outputs": [
        {
          "output_type": "stream",
          "name": "stdout",
          "text": [
            "\n",
            "Sorted Compressed Representation (Descending Order of Visit Count):\n",
            "+-------+-----------------+-----------+\n",
            "|User_ID|Total_Amount_Paid|Visit_Count|\n",
            "+-------+-----------------+-----------+\n",
            "|    103|             5690|          3|\n",
            "|    102|             4000|          3|\n",
            "|    105|             3800|          2|\n",
            "|    104|              400|          1|\n",
            "+-------+-----------------+-----------+\n",
            "\n"
          ]
        }
      ]
    },
    {
      "cell_type": "markdown",
      "source": [
        "Using PySpark on Dataproc Hadoop Cluster in Google cloud platform, get data files from link (https://www.nyc.gov/site/tlc/about/tlc-trip-record-data.page) and download at least 5 data. Perform the following operations:\n",
        "\n",
        "1) Show the number of columns and rows in the data.\n",
        "\n",
        "2) Remove duplicate rows\n",
        "\n",
        "3) Crop any 3 columns and show them separately.\n",
        "\n",
        "4) Join any two data.\n",
        "\n",
        "5) Show the graphs.\n",
        "\n",
        "6) Copy the data in another folder through PySpark command.\n",
        "\n",
        "\n",
        "\n",
        "\n"
      ],
      "metadata": {
        "id": "e9ATSlkafEun"
      }
    },
    {
      "cell_type": "code",
      "source": [
        "#yellow_tripdata_2023-01\n",
        "\n",
        "import os\n",
        "import pyarrow.parquet as pq\n",
        "\n",
        "# Import required modules\n",
        "from pyspark.sql import SparkSession\n",
        "\n",
        "# Create a Spark session\n",
        "spark = SparkSession.builder.appName(\"parquet_example\").getOrCreate()\n",
        "\n",
        "# Path to the Parquet file\n",
        "parquet_file_path = '/content/drive/MyDrive/yellow_tripdata_2023-01.parquet'\n",
        "\n",
        "# Read Parquet file into a Spark DataFrame\n",
        "df = spark.read.parquet(parquet_file_path)\n",
        "\n",
        "# Show the DataFrame schema and the first few rows\n",
        "df.printSchema()\n",
        "df.show()\n",
        "\n"
      ],
      "metadata": {
        "colab": {
          "base_uri": "https://localhost:8080/"
        },
        "id": "NVO0r8uUfrUu",
        "outputId": "e967e1e5-5862-4574-a6ca-7d206404a40a"
      },
      "execution_count": 25,
      "outputs": [
        {
          "output_type": "stream",
          "name": "stdout",
          "text": [
            "root\n",
            " |-- VendorID: long (nullable = true)\n",
            " |-- tpep_pickup_datetime: timestamp_ntz (nullable = true)\n",
            " |-- tpep_dropoff_datetime: timestamp_ntz (nullable = true)\n",
            " |-- passenger_count: double (nullable = true)\n",
            " |-- trip_distance: double (nullable = true)\n",
            " |-- RatecodeID: double (nullable = true)\n",
            " |-- store_and_fwd_flag: string (nullable = true)\n",
            " |-- PULocationID: long (nullable = true)\n",
            " |-- DOLocationID: long (nullable = true)\n",
            " |-- payment_type: long (nullable = true)\n",
            " |-- fare_amount: double (nullable = true)\n",
            " |-- extra: double (nullable = true)\n",
            " |-- mta_tax: double (nullable = true)\n",
            " |-- tip_amount: double (nullable = true)\n",
            " |-- tolls_amount: double (nullable = true)\n",
            " |-- improvement_surcharge: double (nullable = true)\n",
            " |-- total_amount: double (nullable = true)\n",
            " |-- congestion_surcharge: double (nullable = true)\n",
            " |-- airport_fee: double (nullable = true)\n",
            "\n",
            "+--------+--------------------+---------------------+---------------+-------------+----------+------------------+------------+------------+------------+-----------+-----+-------+----------+------------+---------------------+------------+--------------------+-----------+\n",
            "|VendorID|tpep_pickup_datetime|tpep_dropoff_datetime|passenger_count|trip_distance|RatecodeID|store_and_fwd_flag|PULocationID|DOLocationID|payment_type|fare_amount|extra|mta_tax|tip_amount|tolls_amount|improvement_surcharge|total_amount|congestion_surcharge|airport_fee|\n",
            "+--------+--------------------+---------------------+---------------+-------------+----------+------------------+------------+------------+------------+-----------+-----+-------+----------+------------+---------------------+------------+--------------------+-----------+\n",
            "|       2| 2023-01-01 00:32:10|  2023-01-01 00:40:36|            1.0|         0.97|       1.0|                 N|         161|         141|           2|        9.3|  1.0|    0.5|       0.0|         0.0|                  1.0|        14.3|                 2.5|        0.0|\n",
            "|       2| 2023-01-01 00:55:08|  2023-01-01 01:01:27|            1.0|          1.1|       1.0|                 N|          43|         237|           1|        7.9|  1.0|    0.5|       4.0|         0.0|                  1.0|        16.9|                 2.5|        0.0|\n",
            "|       2| 2023-01-01 00:25:04|  2023-01-01 00:37:49|            1.0|         2.51|       1.0|                 N|          48|         238|           1|       14.9|  1.0|    0.5|      15.0|         0.0|                  1.0|        34.9|                 2.5|        0.0|\n",
            "|       1| 2023-01-01 00:03:48|  2023-01-01 00:13:25|            0.0|          1.9|       1.0|                 N|         138|           7|           1|       12.1| 7.25|    0.5|       0.0|         0.0|                  1.0|       20.85|                 0.0|       1.25|\n",
            "|       2| 2023-01-01 00:10:29|  2023-01-01 00:21:19|            1.0|         1.43|       1.0|                 N|         107|          79|           1|       11.4|  1.0|    0.5|      3.28|         0.0|                  1.0|       19.68|                 2.5|        0.0|\n",
            "|       2| 2023-01-01 00:50:34|  2023-01-01 01:02:52|            1.0|         1.84|       1.0|                 N|         161|         137|           1|       12.8|  1.0|    0.5|      10.0|         0.0|                  1.0|        27.8|                 2.5|        0.0|\n",
            "|       2| 2023-01-01 00:09:22|  2023-01-01 00:19:49|            1.0|         1.66|       1.0|                 N|         239|         143|           1|       12.1|  1.0|    0.5|      3.42|         0.0|                  1.0|       20.52|                 2.5|        0.0|\n",
            "|       2| 2023-01-01 00:27:12|  2023-01-01 00:49:56|            1.0|         11.7|       1.0|                 N|         142|         200|           1|       45.7|  1.0|    0.5|     10.74|         3.0|                  1.0|       64.44|                 2.5|        0.0|\n",
            "|       2| 2023-01-01 00:21:44|  2023-01-01 00:36:40|            1.0|         2.95|       1.0|                 N|         164|         236|           1|       17.7|  1.0|    0.5|      5.68|         0.0|                  1.0|       28.38|                 2.5|        0.0|\n",
            "|       2| 2023-01-01 00:39:42|  2023-01-01 00:50:36|            1.0|         3.01|       1.0|                 N|         141|         107|           2|       14.9|  1.0|    0.5|       0.0|         0.0|                  1.0|        19.9|                 2.5|        0.0|\n",
            "|       2| 2023-01-01 00:53:01|  2023-01-01 01:01:45|            1.0|          1.8|       1.0|                 N|         234|          68|           1|       11.4|  1.0|    0.5|      3.28|         0.0|                  1.0|       19.68|                 2.5|        0.0|\n",
            "|       1| 2023-01-01 00:43:37|  2023-01-01 01:17:18|            4.0|          7.3|       1.0|                 N|          79|         264|           1|       33.8|  3.5|    0.5|      7.75|         0.0|                  1.0|       46.55|                 2.5|        0.0|\n",
            "|       2| 2023-01-01 00:34:44|  2023-01-01 01:04:25|            1.0|         3.23|       1.0|                 N|         164|         143|           1|       26.1|  1.0|    0.5|      6.22|         0.0|                  1.0|       37.32|                 2.5|        0.0|\n",
            "|       2| 2023-01-01 00:09:29|  2023-01-01 00:29:23|            2.0|        11.43|       1.0|                 N|         138|          33|           1|       44.3|  6.0|    0.5|     13.26|         0.0|                  1.0|       66.31|                 0.0|       1.25|\n",
            "|       2| 2023-01-01 00:33:53|  2023-01-01 00:49:15|            1.0|         2.95|       1.0|                 N|          33|          61|           1|       17.7|  1.0|    0.5|      4.04|         0.0|                  1.0|       24.24|                 0.0|        0.0|\n",
            "|       2| 2023-01-01 00:13:04|  2023-01-01 00:22:10|            1.0|         1.52|       1.0|                 N|          79|         186|           1|       10.0|  1.0|    0.5|      1.25|         0.0|                  1.0|       16.25|                 2.5|        0.0|\n",
            "|       2| 2023-01-01 00:45:11|  2023-01-01 01:07:39|            1.0|         2.23|       1.0|                 N|          90|          48|           1|       19.8|  1.0|    0.5|      4.96|         0.0|                  1.0|       29.76|                 2.5|        0.0|\n",
            "|       1| 2023-01-01 00:04:33|  2023-01-01 00:19:22|            1.0|          4.5|       1.0|                 N|         113|         255|           1|       20.5|  3.5|    0.5|       4.0|         0.0|                  1.0|        29.5|                 2.5|        0.0|\n",
            "|       1| 2023-01-01 00:03:36|  2023-01-01 00:09:36|            3.0|          1.2|       1.0|                 N|         237|         239|           2|        8.6|  3.5|    0.5|       0.0|         0.0|                  1.0|        13.6|                 2.5|        0.0|\n",
            "|       1| 2023-01-01 00:15:23|  2023-01-01 00:29:41|            2.0|          2.5|       1.0|                 N|         143|         229|           2|       15.6|  3.5|    0.5|       0.0|         0.0|                  1.0|        20.6|                 2.5|        0.0|\n",
            "+--------+--------------------+---------------------+---------------+-------------+----------+------------------+------------+------------+------------+-----------+-----+-------+----------+------------+---------------------+------------+--------------------+-----------+\n",
            "only showing top 20 rows\n",
            "\n"
          ]
        }
      ]
    },
    {
      "cell_type": "code",
      "source": [
        "# Task 1\n",
        "# Show the number of columns and rows in the data\n",
        "\n",
        "# Display the number of columns\n",
        "num_columns = len(df.columns)\n",
        "print(f\"Number of columns: {num_columns}\")\n",
        "\n",
        "# Display the number of rows\n",
        "num_rows = df.count()\n",
        "print(f\"Number of rows: {num_rows}\")\n"
      ],
      "metadata": {
        "colab": {
          "base_uri": "https://localhost:8080/"
        },
        "id": "UIHX424JkNhq",
        "outputId": "e94da70b-30ce-4276-ca12-197b5c88c321"
      },
      "execution_count": 26,
      "outputs": [
        {
          "output_type": "stream",
          "name": "stdout",
          "text": [
            "Number of columns: 19\n",
            "Number of rows: 3066766\n"
          ]
        }
      ]
    },
    {
      "cell_type": "code",
      "source": [
        "# Task 2\n",
        "# Remove duplicate rows\n",
        "\n",
        "# Remove duplicates and create a new DataFrame\n",
        "df_no_duplicates = df.dropDuplicates()\n",
        "\n",
        "# Display the number of rows after removing duplicates\n",
        "num_rows_no_duplicates = df_no_duplicates.count()\n",
        "print(f\"Number of rows after removing duplicates: {num_rows_no_duplicates}\")\n"
      ],
      "metadata": {
        "colab": {
          "base_uri": "https://localhost:8080/"
        },
        "id": "DD8qnkuxj9TI",
        "outputId": "62b8d147-5656-448c-9b4b-355d26f179ce"
      },
      "execution_count": 27,
      "outputs": [
        {
          "output_type": "stream",
          "name": "stdout",
          "text": [
            "Number of rows after removing duplicates: 3066766\n"
          ]
        }
      ]
    },
    {
      "cell_type": "code",
      "source": [
        "\n",
        "# Task 3\n",
        "# Crop any 3 columns and show them separately\n",
        "\n",
        "# Select three columns\n",
        "selected_columns = df.select(\"extra\", \"mta_tax\", \"RatecodeID\")\n",
        "\n",
        "# Show the selected columns\n",
        "selected_columns.show()\n",
        "\n",
        "# Print the DataFrame schema\n",
        "df.printSchema()\n"
      ],
      "metadata": {
        "colab": {
          "base_uri": "https://localhost:8080/"
        },
        "id": "7rwkvYT_kenA",
        "outputId": "2d5c284d-4bfd-4c3f-e2f3-dc5899346969"
      },
      "execution_count": 31,
      "outputs": [
        {
          "output_type": "stream",
          "name": "stdout",
          "text": [
            "+-----+-------+----------+\n",
            "|extra|mta_tax|RatecodeID|\n",
            "+-----+-------+----------+\n",
            "|  1.0|    0.5|       1.0|\n",
            "|  1.0|    0.5|       1.0|\n",
            "|  1.0|    0.5|       1.0|\n",
            "| 7.25|    0.5|       1.0|\n",
            "|  1.0|    0.5|       1.0|\n",
            "|  1.0|    0.5|       1.0|\n",
            "|  1.0|    0.5|       1.0|\n",
            "|  1.0|    0.5|       1.0|\n",
            "|  1.0|    0.5|       1.0|\n",
            "|  1.0|    0.5|       1.0|\n",
            "|  1.0|    0.5|       1.0|\n",
            "|  3.5|    0.5|       1.0|\n",
            "|  1.0|    0.5|       1.0|\n",
            "|  6.0|    0.5|       1.0|\n",
            "|  1.0|    0.5|       1.0|\n",
            "|  1.0|    0.5|       1.0|\n",
            "|  1.0|    0.5|       1.0|\n",
            "|  3.5|    0.5|       1.0|\n",
            "|  3.5|    0.5|       1.0|\n",
            "|  3.5|    0.5|       1.0|\n",
            "+-----+-------+----------+\n",
            "only showing top 20 rows\n",
            "\n",
            "root\n",
            " |-- VendorID: long (nullable = true)\n",
            " |-- tpep_pickup_datetime: timestamp_ntz (nullable = true)\n",
            " |-- tpep_dropoff_datetime: timestamp_ntz (nullable = true)\n",
            " |-- passenger_count: double (nullable = true)\n",
            " |-- trip_distance: double (nullable = true)\n",
            " |-- RatecodeID: double (nullable = true)\n",
            " |-- store_and_fwd_flag: string (nullable = true)\n",
            " |-- PULocationID: long (nullable = true)\n",
            " |-- DOLocationID: long (nullable = true)\n",
            " |-- payment_type: long (nullable = true)\n",
            " |-- fare_amount: double (nullable = true)\n",
            " |-- extra: double (nullable = true)\n",
            " |-- mta_tax: double (nullable = true)\n",
            " |-- tip_amount: double (nullable = true)\n",
            " |-- tolls_amount: double (nullable = true)\n",
            " |-- improvement_surcharge: double (nullable = true)\n",
            " |-- total_amount: double (nullable = true)\n",
            " |-- congestion_surcharge: double (nullable = true)\n",
            " |-- airport_fee: double (nullable = true)\n",
            "\n"
          ]
        }
      ]
    },
    {
      "cell_type": "code",
      "source": [
        "# Task 4\n",
        "# Join any two data\n",
        "\n",
        "# Assuming you have another DataFrame df2 to join with df\n",
        "# Replace \"common_column\" with the actual common column for joining\n",
        "joined_df = df.join(df2, on=\"common_column\", how=\"inner\")\n",
        "\n",
        "# Show the joined DataFrame\n",
        "joined_df.show()\n"
      ],
      "metadata": {
        "colab": {
          "base_uri": "https://localhost:8080/",
          "height": 254
        },
        "id": "64y9Cpreleqg",
        "outputId": "a3ef963d-fc4b-4232-cb8c-05fb8cf195da"
      },
      "execution_count": 32,
      "outputs": [
        {
          "output_type": "error",
          "ename": "NameError",
          "evalue": "ignored",
          "traceback": [
            "\u001b[0;31m---------------------------------------------------------------------------\u001b[0m",
            "\u001b[0;31mNameError\u001b[0m                                 Traceback (most recent call last)",
            "\u001b[0;32m<ipython-input-32-02ec21e0b748>\u001b[0m in \u001b[0;36m<cell line: 6>\u001b[0;34m()\u001b[0m\n\u001b[1;32m      4\u001b[0m \u001b[0;31m# Assuming you have another DataFrame df2 to join with df\u001b[0m\u001b[0;34m\u001b[0m\u001b[0;34m\u001b[0m\u001b[0m\n\u001b[1;32m      5\u001b[0m \u001b[0;31m# Replace \"common_column\" with the actual common column for joining\u001b[0m\u001b[0;34m\u001b[0m\u001b[0;34m\u001b[0m\u001b[0m\n\u001b[0;32m----> 6\u001b[0;31m \u001b[0mjoined_df\u001b[0m \u001b[0;34m=\u001b[0m \u001b[0mdf\u001b[0m\u001b[0;34m.\u001b[0m\u001b[0mjoin\u001b[0m\u001b[0;34m(\u001b[0m\u001b[0mdf2\u001b[0m\u001b[0;34m,\u001b[0m \u001b[0mon\u001b[0m\u001b[0;34m=\u001b[0m\u001b[0;34m\"common_column\"\u001b[0m\u001b[0;34m,\u001b[0m \u001b[0mhow\u001b[0m\u001b[0;34m=\u001b[0m\u001b[0;34m\"inner\"\u001b[0m\u001b[0;34m)\u001b[0m\u001b[0;34m\u001b[0m\u001b[0;34m\u001b[0m\u001b[0m\n\u001b[0m\u001b[1;32m      7\u001b[0m \u001b[0;34m\u001b[0m\u001b[0m\n\u001b[1;32m      8\u001b[0m \u001b[0;31m# Show the joined DataFrame\u001b[0m\u001b[0;34m\u001b[0m\u001b[0;34m\u001b[0m\u001b[0m\n",
            "\u001b[0;31mNameError\u001b[0m: name 'df2' is not defined"
          ]
        }
      ]
    },
    {
      "cell_type": "code",
      "source": [
        "# Task 5\n",
        "# Show the graphs\n",
        "\n",
        "# Assuming you want to show a histogram for a specific column \"histogram_column\"\n",
        "# Replace \"histogram_column\" with the actual column for the histogram\n",
        "df.select(\"extra\").toPandas().hist()\n"
      ],
      "metadata": {
        "colab": {
          "base_uri": "https://localhost:8080/",
          "height": 470
        },
        "id": "03KQ97oNlYnr",
        "outputId": "816cb13b-1917-44e2-f71d-0fdfbb00dee0"
      },
      "execution_count": 34,
      "outputs": [
        {
          "output_type": "execute_result",
          "data": {
            "text/plain": [
              "array([[<Axes: title={'center': 'extra'}>]], dtype=object)"
            ]
          },
          "metadata": {},
          "execution_count": 34
        },
        {
          "output_type": "display_data",
          "data": {
            "text/plain": [
              "<Figure size 640x480 with 1 Axes>"
            ],
            "image/png": "[encoded data removed]"
          },
          "metadata": {}
        }
      ]
    },
    {
      "cell_type": "code",
      "source": [
        "# Task 6\n",
        "# Copy the data to another folder through PySpark command\n",
        "\n",
        "# Assuming you want to copy the data to \"/content/drive/MyDrive/new_folder\"\n",
        "output_folder = \"/content/drive/MyDrive/new_folder\"\n",
        "\n",
        "# Write the DataFrame to a new Parquet file in the specified folder\n",
        "df.write.parquet(output_folder, mode=\"overwrite\")\n"
      ],
      "metadata": {
        "id": "oNExGiC-l21N"
      },
      "execution_count": 35,
      "outputs": []
    }
  ]
}